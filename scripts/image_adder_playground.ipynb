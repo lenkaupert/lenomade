{
 "cells": [
  {
   "cell_type": "code",
   "execution_count": 14,
   "id": "37dfc551",
   "metadata": {},
   "outputs": [],
   "source": [
    "#image_adder.py\n",
    "\n",
    "#imports\n",
    "import os\n",
    "from pathlib import Path\n",
    "from PIL import Image, ExifTags\n",
    "\n",
    "#constants\n",
    "path_to_index = Path('../index.html')\n",
    "path_to_images = Path('../landscape_images')"
   ]
  },
  {
   "cell_type": "code",
   "execution_count": 4,
   "id": "fec2ca8e",
   "metadata": {},
   "outputs": [],
   "source": [
    "#call index.html, read/write\n",
    "# index_contents = os.read(path_to_index)\n",
    "index_html = open(path_to_index)\n"
   ]
  },
  {
   "cell_type": "code",
   "execution_count": 5,
   "id": "676e8917",
   "metadata": {},
   "outputs": [],
   "source": [
    "#call folder of landscape images\n",
    "os.chdir(path_to_images)\n"
   ]
  },
  {
   "cell_type": "code",
   "execution_count": 10,
   "id": "19e4f4ee",
   "metadata": {},
   "outputs": [
    {
     "name": "stdout",
     "output_type": "stream",
     "text": [
      "000134750004.jpeg\n",
      "DSCF2091.jpeg\n",
      "lonesome_tree_tee.jpeg\n",
      "000846150009.jpeg\n",
      "000076680030.jpeg\n",
      "000045740035.jpeg\n",
      "000574730009.jpeg\n",
      "000014420002.jpeg\n",
      "000004420031.jpeg\n",
      "000013230004.jpeg\n",
      "babyonsteps_tee.jpeg\n",
      "000846160020.jpeg\n",
      "000007800027.jpeg\n",
      "red_sidewalk_tee.jpeg\n",
      "000846150012.jpeg\n",
      "000013230005.jpeg\n",
      "europeanbreakfast_tee.jpeg\n",
      "022_N22.jpeg\n",
      "day_moon_tee.jpeg\n",
      "000846160017.jpeg\n",
      "000007800010.jpeg\n",
      "22920012.jpeg\n",
      "000846160030.jpeg\n",
      "000014420004.jpeg\n",
      "Shelter_cat_tee.jpeg\n",
      "000013240005.jpeg\n",
      "000574720015.jpeg\n",
      "020_N20.jpeg\n",
      "000574720003.jpeg\n",
      "000014410017.jpeg\n",
      "JAWPE3211.jpeg\n",
      "000846920027.jpeg\n",
      "DSCF3214.jpeg\n",
      "000846160007.jpeg\n",
      "000134750003.jpeg\n",
      "000574720015 (1).jpeg\n",
      "000846160031.jpeg\n",
      "000846920006.jpeg\n",
      "000516600014.jpeg\n",
      "000350820015.jpg\n",
      "Hamptons_pool_tee.jpeg\n",
      "000_N0.jpeg\n",
      "000846160032.jpeg\n",
      "000013230020.jpeg\n",
      "000846160028.jpeg\n",
      "000516600022.jpeg\n",
      "000846920009.jpeg\n",
      "000846920008.jpeg\n",
      "000574730036.jpeg\n",
      "King Fool_tee.jpeg\n",
      "000574730016.jpeg\n",
      "Christmas Seat_tee.jpeg\n",
      "000014430020.jpeg\n",
      "IMG_1827.jpeg\n",
      "000846920023.jpeg\n",
      "000846160002.jpeg\n",
      "000004820015.jpeg\n",
      "000574730031.jpeg\n",
      "000846150011.jpeg\n",
      "000014420016.jpeg\n",
      "000014430017.jpeg\n",
      "22920030.jpeg\n",
      "000846150010.jpeg\n",
      "000846150030.jpeg\n",
      "000516600025.jpeg\n",
      "000134750011.jpeg\n",
      "000846160003.jpeg\n"
     ]
    }
   ],
   "source": [
    "#create list of image names and put the list in order of date added\n",
    "image_list = os.listdir(path_to_images)\n",
    "print('\\n'.join(image_list))"
   ]
  },
  {
   "cell_type": "code",
   "execution_count": 16,
   "id": "1b285bad",
   "metadata": {},
   "outputs": [
    {
     "name": "stdout",
     "output_type": "stream",
     "text": [
      "{'ResolutionUnit': 2, 'ExifOffset': 232, 'Make': 'NORITSU KOKI', 'Model': 'EZ Controller', 'Software': 'EZ Controller 6.01.002  (121108)', 'Orientation': 1, 'DateTime': '2021:08:18 11:10:33', 'YCbCrPositioning': 1, 'XResolution': 72.0, 'YResolution': 72.0, 'ExifVersion': b'0220', 'ComponentsConfiguration': b'\\x01\\x02\\x03\\x00', 'FlashPixVersion': b'0100', 'DateTimeOriginal': '2021:08:18 11:10:33', 'DateTimeDigitized': '2021:08:18 11:10:33', 'ColorSpace': 1, 'ExifImageWidth': 3130, 'ExifImageHeight': 2075, 'SceneCaptureType': 0, 'OffsetTime': '+02:00', 'OffsetTimeOriginal': '+02:00', 'OffsetTimeDigitized': '+02:00', 'SubsecTime': '093', 'SubsecTimeOriginal': '093', 'SubsecTimeDigitized': '093', 'FocalPlaneResolutionUnit': 3}\n"
     ]
    }
   ],
   "source": [
    "img = Image.open(image_list[0])\n",
    "exif = { ExifTags.TAGS[k]: v for k, v in img._getexif().items() if k in ExifTags.TAGS }\n",
    "print(exif)"
   ]
  }
 ],
 "metadata": {
  "kernelspec": {
   "display_name": "Python 3 (ipykernel)",
   "language": "python",
   "name": "python3"
  },
  "language_info": {
   "codemirror_mode": {
    "name": "ipython",
    "version": 3
   },
   "file_extension": ".py",
   "mimetype": "text/x-python",
   "name": "python",
   "nbconvert_exporter": "python",
   "pygments_lexer": "ipython3",
   "version": "3.10.12"
  }
 },
 "nbformat": 4,
 "nbformat_minor": 5
}
